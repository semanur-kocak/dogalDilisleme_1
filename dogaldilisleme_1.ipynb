{
  "nbformat": 4,
  "nbformat_minor": 0,
  "metadata": {
    "colab": {
      "provenance": [],
      "authorship_tag": "ABX9TyMvNOZCIv/tJ8g3KOCVPo8g",
      "include_colab_link": true
    },
    "kernelspec": {
      "name": "python3",
      "display_name": "Python 3"
    },
    "language_info": {
      "name": "python"
    }
  },
  "cells": [
    {
      "cell_type": "markdown",
      "metadata": {
        "id": "view-in-github",
        "colab_type": "text"
      },
      "source": [
        "<a href=\"https://colab.research.google.com/github/semanur-kocak/dogalDilisleme_1/blob/main/dogaldilisleme_1.ipynb\" target=\"_parent\"><img src=\"https://colab.research.google.com/assets/colab-badge.svg\" alt=\"Open In Colab\"/></a>"
      ]
    },
    {
      "cell_type": "code",
      "execution_count": 12,
      "metadata": {
        "colab": {
          "base_uri": "https://localhost:8080/"
        },
        "id": "sr3y50FATbsQ",
        "outputId": "573655d7-2833-48a8-8ac6-0be1890c6d34"
      },
      "outputs": [
        {
          "output_type": "stream",
          "name": "stdout",
          "text": [
            "Bir metin girin: uygulamaya girilen metnin (bu bir paragraflık bir yazı olabilir) hangi dilde yazıldığını (Türkçe, İngilizce, Almanca, Fransızca, İspanyolca) tespit etmektir. Metin girildikten sonra uygulama metnin yukarıda listelenen 5 dilden biri ile yazılıp yazılmadığını tespit edecektir.\n",
            "Metnin dili: Türkçe\n"
          ]
        }
      ],
      "source": [
        "dil_kelimeleri = {\n",
        "    'Türkçe': ['merhaba', 'nasıl', 'gün', 'ben', 'evet', 'hayır', 'lütfen', 'bir', 'değil', 'asla'],\n",
        "    'İngilizce': ['hello', 'how', 'are', 'yes', 'no', 'please', 'thank', 'life', 'never'],\n",
        "    'Almanca': ['hallo', 'wie', 'geht', 'ja', 'nein', 'bitte', 'danke', 'niemals', 'leben'],\n",
        "    'Fransızca': ['bonjour', 'comment', 'ça', 'va', 'oui', 'non', 's’il' 'vie', 'jamais'],\n",
        "    'İspanyolca': ['hola', 'cómo', 'estás', 'sí', 'no', 'por', 'favor', 'vida', 'nunca']\n",
        "}\n",
        "\n",
        "\n",
        "def dil_tespit_et(metin):\n",
        "    metin = metin.lower()\n",
        "\n",
        "    dil_skorları = {dil: 0 for dil in dil_kelimeleri}\n",
        "\n",
        "    for dil, kelimeler in dil_kelimeleri.items():\n",
        "        for kelime in kelimeler:\n",
        "            if kelime in metin:\n",
        "                dil_skorları[dil] += 1\n",
        "\n",
        "    en_yuksek_skorlu_dil = max(dil_skorları, key=dil_skorları.get)\n",
        "\n",
        "    if dil_skorları[en_yuksek_skorlu_dil] == 0:\n",
        "        return \"Geçerli dillerden biri değil.\"\n",
        "\n",
        "    return en_yuksek_skorlu_dil\n",
        "\n",
        "metin = input(\"Bir metin girin: \")\n",
        "sonuc = dil_tespit_et(metin)\n",
        "print(f\"Metnin dili: {sonuc}\")"
      ]
    }
  ]
}